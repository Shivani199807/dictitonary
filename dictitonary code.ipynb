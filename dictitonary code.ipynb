{
 "cells": [
  {
   "cell_type": "code",
   "execution_count": null,
   "metadata": {},
   "outputs": [],
   "source": [
    "import json\n",
    "#here we import library which can check close matches like rain and rainn\n",
    "from difflib import get_close_matches\n",
    "data=json.load(open(\"data.json\"))\n",
    "#input data using user\n",
    "#here word and w can be different \n",
    "#here w is local variable while Word is global variable\n",
    "def translate(w):\n",
    "#changing every word to lower case    \n",
    "    w=w.lower()\n",
    "#we check whether the word exist or not    \n",
    "    if w in data:\n",
    "        return data[w]\n",
    "    elif w.title() in data: #if user entered \"texas\" this will check for \"Texas\" as well.\n",
    "        return data[w.title()]\n",
    "    elif w.upper() in data: #in case user enters words like USA or NATO\n",
    "        return data[w.upper()]\n",
    "    elif len(get_close_matches(w,data.keys()))>0:\n",
    "#here if the match is almost similar then we will ask if we want to display the meaning or not        \n",
    "        yn = input( \"Did u mean %s instead? Enter Y if yes,or N if no: \" % get_close_matches(w,data.keys())[0])\n",
    "        if yn == \"Y\":\n",
    "            return data[get_close_matches(w,data.keys())[0]]\n",
    "        elif yn == \"N\":\n",
    "            return \"We didn't understand the entry.\"\n",
    "        else:\n",
    "            return \"The word doesnt exist . Please double check it\"\n",
    "            \n",
    "    else:\n",
    "        return \"The word doesn't exist\"\n",
    "    \n",
    "word=input(\"Enter words: \")\n",
    "output= translate(word)\n",
    "#so here we are actually putting the meanings in different lines\n",
    "if type(output)==list:\n",
    "    for item in output:\n",
    "        print(item)\n",
    "#here we used this so that the other sentences wont be run in loop        \n",
    "else:\n",
    "    print(output)"
   ]
  },
  {
   "cell_type": "code",
   "execution_count": null,
   "metadata": {},
   "outputs": [],
   "source": []
  },
  {
   "cell_type": "code",
   "execution_count": null,
   "metadata": {},
   "outputs": [],
   "source": []
  },
  {
   "cell_type": "code",
   "execution_count": null,
   "metadata": {},
   "outputs": [],
   "source": []
  },
  {
   "cell_type": "code",
   "execution_count": null,
   "metadata": {},
   "outputs": [],
   "source": []
  }
 ],
 "metadata": {
  "kernelspec": {
   "display_name": "Python 3",
   "language": "python",
   "name": "python3"
  },
  "language_info": {
   "codemirror_mode": {
    "name": "ipython",
    "version": 3
   },
   "file_extension": ".py",
   "mimetype": "text/x-python",
   "name": "python",
   "nbconvert_exporter": "python",
   "pygments_lexer": "ipython3",
   "version": "3.7.1"
  }
 },
 "nbformat": 4,
 "nbformat_minor": 2
}
